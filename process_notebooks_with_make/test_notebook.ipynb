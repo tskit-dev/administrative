{
 "cells": [
  {
   "cell_type": "code",
   "execution_count": 1,
   "metadata": {
    "collapsed": true
   },
   "outputs": [],
   "source": [
    "import msprime"
   ]
  },
  {
   "cell_type": "code",
   "execution_count": 5,
   "metadata": {
    "collapsed": true
   },
   "outputs": [],
   "source": [
    "x = msprime.simulate(10,mutation_rate=10.0)"
   ]
  },
  {
   "cell_type": "code",
   "execution_count": 6,
   "metadata": {},
   "outputs": [
    {
     "name": "stdout",
     "output_type": "stream",
     "text": [
      "Variant(position=0.047565045999363065, node=14, index=0, genotypes=array([0, 0, 1, 0, 1, 0, 0, 0, 1, 1], dtype=uint8))\n",
      "Variant(position=0.06138298544101417, node=2, index=1, genotypes=array([0, 0, 1, 0, 0, 0, 0, 0, 0, 0], dtype=uint8))\n",
      "Variant(position=0.09722634870558977, node=0, index=2, genotypes=array([1, 0, 0, 0, 0, 0, 0, 0, 0, 0], dtype=uint8))\n",
      "Variant(position=0.10407208767719567, node=7, index=3, genotypes=array([0, 0, 0, 0, 0, 0, 0, 1, 0, 0], dtype=uint8))\n",
      "Variant(position=0.14840293698944151, node=11, index=4, genotypes=array([0, 0, 0, 0, 1, 0, 0, 0, 1, 0], dtype=uint8))\n",
      "Variant(position=0.2687540901824832, node=3, index=5, genotypes=array([0, 0, 0, 1, 0, 0, 0, 0, 0, 0], dtype=uint8))\n",
      "Variant(position=0.27406474901363254, node=17, index=6, genotypes=array([1, 1, 1, 0, 1, 1, 1, 1, 1, 1], dtype=uint8))\n",
      "Variant(position=0.29225696180947125, node=3, index=7, genotypes=array([0, 0, 0, 1, 0, 0, 0, 0, 0, 0], dtype=uint8))\n",
      "Variant(position=0.29536866629496217, node=5, index=8, genotypes=array([0, 0, 0, 0, 0, 1, 0, 0, 0, 0], dtype=uint8))\n",
      "Variant(position=0.31498036347329617, node=3, index=9, genotypes=array([0, 0, 0, 1, 0, 0, 0, 0, 0, 0], dtype=uint8))\n",
      "Variant(position=0.32289361930452287, node=13, index=10, genotypes=array([1, 0, 0, 0, 0, 1, 0, 0, 0, 0], dtype=uint8))\n",
      "Variant(position=0.3458060866687447, node=7, index=11, genotypes=array([0, 0, 0, 0, 0, 0, 0, 1, 0, 0], dtype=uint8))\n",
      "Variant(position=0.3634524855297059, node=13, index=12, genotypes=array([1, 0, 0, 0, 0, 1, 0, 0, 0, 0], dtype=uint8))\n",
      "Variant(position=0.38619569176808, node=3, index=13, genotypes=array([0, 0, 0, 1, 0, 0, 0, 0, 0, 0], dtype=uint8))\n",
      "Variant(position=0.39659903524443507, node=13, index=14, genotypes=array([1, 0, 0, 0, 0, 1, 0, 0, 0, 0], dtype=uint8))\n",
      "Variant(position=0.42443417059257627, node=15, index=15, genotypes=array([0, 1, 1, 0, 1, 0, 1, 0, 1, 1], dtype=uint8))\n",
      "Variant(position=0.4829826809000224, node=3, index=16, genotypes=array([0, 0, 0, 1, 0, 0, 0, 0, 0, 0], dtype=uint8))\n",
      "Variant(position=0.4905021751765162, node=15, index=17, genotypes=array([0, 1, 1, 0, 1, 0, 1, 0, 1, 1], dtype=uint8))\n",
      "Variant(position=0.49408019380643964, node=3, index=18, genotypes=array([0, 0, 0, 1, 0, 0, 0, 0, 0, 0], dtype=uint8))\n",
      "Variant(position=0.5152942375279963, node=3, index=19, genotypes=array([0, 0, 0, 1, 0, 0, 0, 0, 0, 0], dtype=uint8))\n",
      "Variant(position=0.5180934742093086, node=3, index=20, genotypes=array([0, 0, 0, 1, 0, 0, 0, 0, 0, 0], dtype=uint8))\n",
      "Variant(position=0.5193600212223828, node=3, index=21, genotypes=array([0, 0, 0, 1, 0, 0, 0, 0, 0, 0], dtype=uint8))\n",
      "Variant(position=0.5703282058238983, node=17, index=22, genotypes=array([1, 1, 1, 0, 1, 1, 1, 1, 1, 1], dtype=uint8))\n",
      "Variant(position=0.6270920850802213, node=13, index=23, genotypes=array([1, 0, 0, 0, 0, 1, 0, 0, 0, 0], dtype=uint8))\n",
      "Variant(position=0.6470616231672466, node=5, index=24, genotypes=array([0, 0, 0, 0, 0, 1, 0, 0, 0, 0], dtype=uint8))\n",
      "Variant(position=0.6650918750092387, node=13, index=25, genotypes=array([1, 0, 0, 0, 0, 1, 0, 0, 0, 0], dtype=uint8))\n",
      "Variant(position=0.6903664434794337, node=15, index=26, genotypes=array([0, 1, 1, 0, 1, 0, 1, 0, 1, 1], dtype=uint8))\n",
      "Variant(position=0.7351366174407303, node=3, index=27, genotypes=array([0, 0, 0, 1, 0, 0, 0, 0, 0, 0], dtype=uint8))\n",
      "Variant(position=0.7433620286174119, node=15, index=28, genotypes=array([0, 1, 1, 0, 1, 0, 1, 0, 1, 1], dtype=uint8))\n",
      "Variant(position=0.773960841819644, node=15, index=29, genotypes=array([0, 1, 1, 0, 1, 0, 1, 0, 1, 1], dtype=uint8))\n",
      "Variant(position=0.8111466669943184, node=3, index=30, genotypes=array([0, 0, 0, 1, 0, 0, 0, 0, 0, 0], dtype=uint8))\n",
      "Variant(position=0.8798279338516295, node=15, index=31, genotypes=array([0, 1, 1, 0, 1, 0, 1, 0, 1, 1], dtype=uint8))\n",
      "Variant(position=0.890814745798707, node=3, index=32, genotypes=array([0, 0, 0, 1, 0, 0, 0, 0, 0, 0], dtype=uint8))\n",
      "Variant(position=0.9147896305657923, node=3, index=33, genotypes=array([0, 0, 0, 1, 0, 0, 0, 0, 0, 0], dtype=uint8))\n",
      "Variant(position=0.938626800198108, node=3, index=34, genotypes=array([0, 0, 0, 1, 0, 0, 0, 0, 0, 0], dtype=uint8))\n",
      "Variant(position=0.9445469288621098, node=7, index=35, genotypes=array([0, 0, 0, 0, 0, 0, 0, 1, 0, 0], dtype=uint8))\n",
      "Variant(position=0.9512185102794319, node=17, index=36, genotypes=array([1, 1, 1, 0, 1, 1, 1, 1, 1, 1], dtype=uint8))\n",
      "Variant(position=0.9619679965544492, node=17, index=37, genotypes=array([1, 1, 1, 0, 1, 1, 1, 1, 1, 1], dtype=uint8))\n",
      "Variant(position=0.9686174287926406, node=17, index=38, genotypes=array([1, 1, 1, 0, 1, 1, 1, 1, 1, 1], dtype=uint8))\n"
     ]
    }
   ],
   "source": [
    "for i in x.variants():\n",
    "    print(i)"
   ]
  },
  {
   "cell_type": "code",
   "execution_count": null,
   "metadata": {
    "collapsed": true
   },
   "outputs": [],
   "source": [
    "import numpy as np\n",
    "for i in x.variants():\n",
    "    print(len(np.where(i.genotypes == 1)[0]))"
   ]
  }
 ],
 "metadata": {
  "kernelspec": {
   "display_name": "Python [conda root]",
   "language": "python",
   "name": "conda-root-py"
  },
  "language_info": {
   "codemirror_mode": {
    "name": "ipython",
    "version": 3
   },
   "file_extension": ".py",
   "mimetype": "text/x-python",
   "name": "python",
   "nbconvert_exporter": "python",
   "pygments_lexer": "ipython3",
   "version": "3.5.4"
  }
 },
 "nbformat": 4,
 "nbformat_minor": 2
}
